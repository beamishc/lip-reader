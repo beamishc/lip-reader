{
 "cells": [
  {
   "cell_type": "code",
   "execution_count": null,
   "id": "7618bec5",
   "metadata": {},
   "outputs": [],
   "source": []
  },
  {
   "cell_type": "code",
   "execution_count": 27,
   "id": "3ce54c71",
   "metadata": {},
   "outputs": [],
   "source": [
    "API_KEY = '2f732f803bcb48ae96644ac55c55266b853f1e8065a530bcafdeb4dceee6928c692d538a3bb2784ac18ea031460fa152'"
   ]
  },
  {
   "cell_type": "code",
   "execution_count": 25,
   "id": "5b295cfd",
   "metadata": {},
   "outputs": [],
   "source": [
    "import requests\n",
    "\n",
    "source = {\n",
    "  'output_format': 'mp4',\n",
    "  'emoji_style': 'google', # Choose between 'facebook', 'google', 'twitter' and 'apple'\n",
    "\n",
    "  'elements': [\n",
    "    {\n",
    "      'type': 'video',\n",
    "      'source': 'https://drive.google.com/file/d/1E7vFVPSgsLMScmNmctBBb_JZjEIEytlY/view?usp=sharing',\n",
    "    },\n",
    "    {\n",
    "      'type': 'text',\n",
    "      'text': 'bin green at n four now',\n",
    "      'y': '90%',\n",
    "      'width': '100%',\n",
    "      'height': '25%',\n",
    "      'x_padding': '5 vw',\n",
    "      'y_padding': '5 vh',\n",
    "      'y_alignment': '90%',\n",
    "      'x_alignment': '90%',\n",
    "      'font_family': 'Open Sans',\n",
    "      'font_weight': 700,\n",
    "      'font_size_maximum': '10.4 vmin',\n",
    "      'background_color': 'rgba(255,255,255,0.69)',\n",
    "      'background_x_padding': '8%',\n",
    "      'background_y_padding': '5%',\n",
    "      'background_align_threshold': '0%',\n",
    "      'fill_color': '#333333',\n",
    "      'text_transform': 'capitalize',\n",
    "#       'animations': [{\n",
    "#         'type': 'text-slide',\n",
    "#         'duration': '2 s',\n",
    "#         'easing': 'quadratic-out',\n",
    "#         'split': 'line',\n",
    "#         'scope': 'element',\n",
    "#         'background_effect': 'scaling-clip',\n",
    "#       }],\n",
    "    },\n",
    "  ],\n",
    "}\n",
    "\n",
    "response = requests.post(\n",
    "  'https://api.creatomate.com/v1/renders',\n",
    "  headers={\n",
    "    'Authorization': f'Bearer {API_KEY}',\n",
    "    'Content-Type': 'application/json',\n",
    "  },\n",
    "  json={'source': source}\n",
    ")"
   ]
  },
  {
   "cell_type": "code",
   "execution_count": 26,
   "id": "2d6e1b9a",
   "metadata": {},
   "outputs": [
    {
     "data": {
      "text/plain": [
       "'https://cdn.creatomate.com/renders/0e981811-ab0c-47a2-825d-e6edb6d90803.mp4'"
      ]
     },
     "execution_count": 26,
     "metadata": {},
     "output_type": "execute_result"
    }
   ],
   "source": [
    "response.json()[0]['url']"
   ]
  },
  {
   "cell_type": "code",
   "execution_count": null,
   "id": "3e74210e",
   "metadata": {},
   "outputs": [],
   "source": []
  }
 ],
 "metadata": {
  "kernelspec": {
   "display_name": "Python 3 (ipykernel)",
   "language": "python",
   "name": "python3"
  },
  "language_info": {
   "codemirror_mode": {
    "name": "ipython",
    "version": 3
   },
   "file_extension": ".py",
   "mimetype": "text/x-python",
   "name": "python",
   "nbconvert_exporter": "python",
   "pygments_lexer": "ipython3",
   "version": "3.10.6"
  },
  "toc": {
   "base_numbering": 1,
   "nav_menu": {},
   "number_sections": true,
   "sideBar": true,
   "skip_h1_title": false,
   "title_cell": "Table of Contents",
   "title_sidebar": "Contents",
   "toc_cell": false,
   "toc_position": {},
   "toc_section_display": true,
   "toc_window_display": false
  }
 },
 "nbformat": 4,
 "nbformat_minor": 5
}
