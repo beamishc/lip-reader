{
 "cells": [
  {
   "cell_type": "code",
   "execution_count": 2,
   "id": "3d3bddd0",
   "metadata": {},
   "outputs": [],
   "source": [
    "import pandas as pd"
   ]
  },
  {
   "cell_type": "code",
   "execution_count": 3,
   "id": "2708fecb",
   "metadata": {},
   "outputs": [],
   "source": [
    "current_df = pd.read_csv('all_matches.csv',index_col=0)"
   ]
  },
  {
   "cell_type": "code",
   "execution_count": 4,
   "id": "e55c9bfb",
   "metadata": {},
   "outputs": [
    {
     "data": {
      "text/html": [
       "<div>\n",
       "<style scoped>\n",
       "    .dataframe tbody tr th:only-of-type {\n",
       "        vertical-align: middle;\n",
       "    }\n",
       "\n",
       "    .dataframe tbody tr th {\n",
       "        vertical-align: top;\n",
       "    }\n",
       "\n",
       "    .dataframe thead th {\n",
       "        text-align: right;\n",
       "    }\n",
       "</style>\n",
       "<table border=\"1\" class=\"dataframe\">\n",
       "  <thead>\n",
       "    <tr style=\"text-align: right;\">\n",
       "      <th></th>\n",
       "      <th>speaker_align</th>\n",
       "      <th>speaker_vid</th>\n",
       "    </tr>\n",
       "  </thead>\n",
       "  <tbody>\n",
       "    <tr>\n",
       "      <th>pwba4n</th>\n",
       "      <td>s32</td>\n",
       "      <td>s33</td>\n",
       "    </tr>\n",
       "    <tr>\n",
       "      <th>briz6p</th>\n",
       "      <td>s3</td>\n",
       "      <td>s3</td>\n",
       "    </tr>\n",
       "    <tr>\n",
       "      <th>lrwo8n</th>\n",
       "      <td>s31</td>\n",
       "      <td>s31</td>\n",
       "    </tr>\n",
       "    <tr>\n",
       "      <th>bgbz3a</th>\n",
       "      <td>s26</td>\n",
       "      <td>s27</td>\n",
       "    </tr>\n",
       "    <tr>\n",
       "      <th>lbwx4n</th>\n",
       "      <td>s12</td>\n",
       "      <td>s13</td>\n",
       "    </tr>\n",
       "    <tr>\n",
       "      <th>...</th>\n",
       "      <td>...</td>\n",
       "      <td>...</td>\n",
       "    </tr>\n",
       "    <tr>\n",
       "      <th>lgwr8n</th>\n",
       "      <td>s12</td>\n",
       "      <td>s13</td>\n",
       "    </tr>\n",
       "    <tr>\n",
       "      <th>bwwrzn</th>\n",
       "      <td>s31</td>\n",
       "      <td>s31</td>\n",
       "    </tr>\n",
       "    <tr>\n",
       "      <th>lgbp7p</th>\n",
       "      <td>s33</td>\n",
       "      <td>s32</td>\n",
       "    </tr>\n",
       "    <tr>\n",
       "      <th>sgbo9p</th>\n",
       "      <td>s8</td>\n",
       "      <td>s8</td>\n",
       "    </tr>\n",
       "    <tr>\n",
       "      <th>lwaj6n</th>\n",
       "      <td>s17</td>\n",
       "      <td>s17</td>\n",
       "    </tr>\n",
       "  </tbody>\n",
       "</table>\n",
       "<p>2000 rows × 2 columns</p>\n",
       "</div>"
      ],
      "text/plain": [
       "       speaker_align speaker_vid\n",
       "pwba4n           s32         s33\n",
       "briz6p            s3          s3\n",
       "lrwo8n           s31         s31\n",
       "bgbz3a           s26         s27\n",
       "lbwx4n           s12         s13\n",
       "...              ...         ...\n",
       "lgwr8n           s12         s13\n",
       "bwwrzn           s31         s31\n",
       "lgbp7p           s33         s32\n",
       "sgbo9p            s8          s8\n",
       "lwaj6n           s17         s17\n",
       "\n",
       "[2000 rows x 2 columns]"
      ]
     },
     "execution_count": 4,
     "metadata": {},
     "output_type": "execute_result"
    }
   ],
   "source": [
    "current_df.sample(2000)"
   ]
  },
  {
   "cell_type": "code",
   "execution_count": null,
   "id": "ff5774f8",
   "metadata": {},
   "outputs": [],
   "source": []
  }
 ],
 "metadata": {
  "kernelspec": {
   "display_name": "Python 3 (ipykernel)",
   "language": "python",
   "name": "python3"
  },
  "language_info": {
   "codemirror_mode": {
    "name": "ipython",
    "version": 3
   },
   "file_extension": ".py",
   "mimetype": "text/x-python",
   "name": "python",
   "nbconvert_exporter": "python",
   "pygments_lexer": "ipython3",
   "version": "3.10.6"
  },
  "toc": {
   "base_numbering": 1,
   "nav_menu": {},
   "number_sections": true,
   "sideBar": true,
   "skip_h1_title": false,
   "title_cell": "Table of Contents",
   "title_sidebar": "Contents",
   "toc_cell": false,
   "toc_position": {},
   "toc_section_display": true,
   "toc_window_display": false
  }
 },
 "nbformat": 4,
 "nbformat_minor": 5
}
